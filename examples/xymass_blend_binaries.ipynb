{
 "cells": [
  {
   "cell_type": "code",
   "execution_count": null,
   "id": "ee9c4623-281d-482b-8ffc-bed771c1ef4c",
   "metadata": {},
   "outputs": [],
   "source": [
    "#install minimint (https://github.com/segasai/minimint) with pip install minimint, on first import run minimint.download_and_prepare()\n",
    "\n",
    "import xymass\n",
    "import numpy as np\n",
    "import minimint\n",
    "import astropy\n",
    "import matplotlib.pyplot as plt\n",
    "import astropy.units as u\n",
    "import scipy\n",
    "from isochrones.mist import MIST_Isochrone\n",
    "from isochrones.mist import MIST_EvolutionTrack\n",
    "from isochrones.mist.bc import MISTBolometricCorrectionGrid\n",
    "from isochrones.mist import MISTEvolutionTrackGrid, MISTIsochroneGrid"
   ]
  },
  {
   "cell_type": "code",
   "execution_count": null,
   "id": "41d37c69-9216-4e0c-a3c5-e3fae923b804",
   "metadata": {},
   "outputs": [],
   "source": [
    "logage=np.log10(1.e+9) # log10(age/year) of stellar population\n",
    "feh=-2. #[Fe/H] metallicity of stellar population\n",
    "distance=100000.*u.pc #distance to stellar population\n",
    "dmodulus=5.*np.log10(distance.to(u.pc).value)-5.\n",
    "resolution_limit=0.5*u.arcsec #instrument angular resolution limit\n",
    "resolution_limit_physical=resolution_limit.to(u.radian).value*distance"
   ]
  },
  {
   "cell_type": "code",
   "execution_count": null,
   "id": "1db76cc1-48da-46f1-b957-e7a5a800cdfa",
   "metadata": {},
   "outputs": [],
   "source": [
    "ii=minimint.Interpolator(['Gaia_G_EDR3']) #filter doesn't matter here, just needed to pick one\n",
    "max_mass=ii.getMaxMass(logage,feh) #maximum mass, in M_sun, for adopted age, metallicity"
   ]
  },
  {
   "cell_type": "code",
   "execution_count": null,
   "id": "3cbc0534-ce87-421c-9845-9c7e8057b637",
   "metadata": {},
   "outputs": [],
   "source": [
    "n_object=1000000 #sample size\n",
    "\n",
    "sb_model='plum' #specify surface brightness model ('plum', 'exp', '2bg', 'uni')\n",
    "r_scale=100.*u.pc #specify scale radius\n",
    "ellipticity=0.5 #specify ellipticity for flattened (elliptical) system, e=1-b/a\n",
    "position_angle=55. #specify position angle for flattened system\n",
    "\n",
    "#generate sample of stellar positions according to parameters above\n",
    "r2d=xymass.sample_r2d(size=n_object,model=sb_model,r_scale=r_scale,ellipticity=ellipticity,position_angle=position_angle) "
   ]
  },
  {
   "cell_type": "code",
   "execution_count": null,
   "id": "1d307f5e-d318-47b5-aa7d-880025470ff4",
   "metadata": {},
   "outputs": [],
   "source": [
    "m_min=0.1 #specify minimum stellar mass in M_sun\n",
    "imf_model='kroupa' #specify IMF model ('kroupa', 'salpeter', 'BPL', 'lognormal')\n",
    "imf_m_min=0.1 #specify minimum stellar mass in M_sun\n",
    "mass_primary=xymass.sample_imf(size=n_object,model=imf_model,m_min=imf_m_min,m_max=max_mass).mass*u.M_sun\n"
   ]
  },
  {
   "cell_type": "code",
   "execution_count": null,
   "id": "98ef05bd-709d-4c70-921d-eef5a5894002",
   "metadata": {},
   "outputs": [],
   "source": [
    "binary_model='Raghavan2010'\n",
    "f_binary=0.2 #specify binary fraction.  Expected number of stars will become n_object*(1+f_binary).  \n",
    "#Actual number will be Poisson distributed\n",
    "\n",
    "#randomly (according to f_binary) select objects from r2d to be replaced by two components comprising binary system\n",
    "#sample positions of binary companions from physically-calculated orbits according to binary_model\n",
    "r2d_wb=xymass.add_binaries(r2d.r_xyz,mass_primary,f_binary=f_binary,\\\n",
    "                                               m_min=m_min,binary_model=binary_model)\n",
    "\n",
    "singles=np.where(r2d_wb.item==0)[0] #single objects\n",
    "primaries=np.where(r2d_wb.item==1)[0] #primaries within binary objects\n",
    "secondaries=np.where(r2d_wb.item==2)[0] #secondaries within binary objects"
   ]
  },
  {
   "cell_type": "code",
   "execution_count": null,
   "id": "e2135e0f-c4ab-421d-8706-3d4d7d9f6f1e",
   "metadata": {},
   "outputs": [],
   "source": [
    "#need to make sure these filters are in bc.py file in site-packages\n",
    "filter_names=['G','BP','RP','DECam_g','DECam_r','DECam_i','DECam_z','DECam_Y','SDSS_u','SDSS_g','SDSS_r','SDSS_i','SDSS_z','PS_g','PS_r','PS_i','PS_z','V','F090W','F150W','ACS_WFC_F606W','ACS_WFC_F814W','LSST_u','LSST_g','LSST_r','LSST_i','LSST_z','LSST_y','R062','Z087','Y106','J129','W146','H158','F184']\n",
    "\n",
    "mist_track=MIST_EvolutionTrack()\n",
    "bc_grid=MISTBolometricCorrectionGrid(filter_names)"
   ]
  },
  {
   "cell_type": "code",
   "execution_count": null,
   "id": "cd777a63-71fb-4c0f-bcf0-531d84b610c4",
   "metadata": {},
   "outputs": [],
   "source": [
    "#interpolate isochrone at each mass\n",
    "iso=mist_track.generate(r2d_wb.mass,logage,feh,accurate=True)\n",
    "#get bolometric correction for all filters in filter_names\n",
    "iso_bc=bc_grid.interp([iso['Teff'],iso['logg'],iso['feh'],np.zeros(len(iso))],filter_names)\n",
    "#apply bolometric corrections\n",
    "iso_filter_mag=(np.array(iso['Mbol'])-iso_bc.T).T"
   ]
  },
  {
   "cell_type": "code",
   "execution_count": null,
   "id": "5c4339a3-bb43-4f1f-8d72-77d4cabe1e6d",
   "metadata": {},
   "outputs": [],
   "source": [
    "Mbol_sun=4.74\n",
    "r2d_with_binaries_blend=xymass.binary_blend(r2d_wb,iso_filter_mag,Mbol_sun,resolution_limit_physical)"
   ]
  },
  {
   "cell_type": "code",
   "execution_count": null,
   "id": "1f072120-2239-4a2e-a3bf-c82fe0860b74",
   "metadata": {},
   "outputs": [],
   "source": [
    "L_V=10.**(-(iso_filter_mag[17]-Mbol_sun)/2.5)\n",
    "M_V=Mbol_sun-2.5*np.log10(np.sum(L_V))\n",
    "mass_tot=np.sum(r2d_wb.mass)\n",
    "\n",
    "f090w=r2d_with_binaries_blend.mag.T[18]+dmodulus\n",
    "f150w=r2d_with_binaries_blend.mag.T[19]+dmodulus\n",
    "\n",
    "#simulate observational errors similar to JWST program\n",
    "e_f090w=10.**(0.3*f090w-9.7)\n",
    "e_f150w=10.**(0.3*f150w-9.35)\n",
    "\n",
    "f090w_obs=f090w+np.random.normal(loc=0.,scale=e_f090w)\n",
    "f150w_obs=f150w+np.random.normal(loc=0.,scale=e_f150w)\n",
    "\n",
    "mag=f090w_obs\n",
    "col=f090w_obs-f150w_obs"
   ]
  },
  {
   "cell_type": "code",
   "execution_count": null,
   "id": "c146637e-ca7b-4ce8-8759-371fb6862fdd",
   "metadata": {},
   "outputs": [],
   "source": [
    "fig=plt.figure(1)\n",
    "ax1=fig.add_subplot(221)\n",
    "ax2=fig.add_subplot(222)\n",
    "ax3=fig.add_subplot(223)\n",
    "ax4=fig.add_subplot(224)\n",
    "fig.subplots_adjust(wspace=0.5,hspace=0.5)\n",
    "\n",
    "cols=np.full(len(r2d_wb.item),'k')\n",
    "cols[r2d_wb.item>0]='r'\n",
    "ax1.scatter([-999],[-999],color='k',label='single',s=1)\n",
    "ax1.scatter([-999],[-999],color='r',label='binary',s=1)\n",
    "ax1.scatter(r2d_wb.r_xyz.T[0]/r2d.rhalf_2d.value,r2d_wb.r_xyz.T[1]/r2d.rhalf_2d.value,color=cols,s=1,alpha=0.3)\n",
    "ax1.set_xlabel(r'$X / R_{\\rm half}$')\n",
    "ax1.set_ylabel(r'$Y / R_{\\rm half}$')\n",
    "ax1.legend(loc=1,fontsize=6)\n",
    "ax1.set_xlim([-10,10])\n",
    "ax1.set_ylim([-10,10])\n",
    "ax1.set_aspect('equal')\n",
    "\n",
    "#ax2.hist(np.log10(nn/r2d.rhalf_2d.value),histtype='step',color='k',label='all',bins=50)\n",
    "#ax2.hist(np.log10(nn_single/r2d.rhalf_2d.value),histtype='step',color='b',label='single',bins=50)\n",
    "#ax2.hist(np.log10(nn_binary/r2d.rhalf_2d.value),histtype='step',color='r',label='binary',bins=50)\n",
    "#ax2.set_xlabel(r'$\\log_{10}[\\mathrm{NN sep}/R_{\\rm half}]$')\n",
    "#ax2.set_ylabel('N')\n",
    "#ax2.legend(loc=2,fontsize=6)\n",
    "\n",
    "cols=np.full(len(col),'k',dtype='str')\n",
    "cols[r2d_with_binaries_blend.blend]='r'\n",
    "ax3.scatter([-999],[-999],color='k',label='single source',s=1)\n",
    "ax3.scatter([-999],[-999],color='r',label='blend',s=1)\n",
    "ax3.scatter(col,mag,color=cols,alpha=0.3,s=1)\n",
    "ax3.set_xlabel('F090W -- F150W')\n",
    "ax3.set_ylabel('F090W')\n",
    "ax3.set_ylim([30,16])\n",
    "ax3.set_xlim([-1,2])\n",
    "ax3.legend(fontsize=6)\n",
    "\n",
    "ax4.set_xlim([0,1])\n",
    "ax4.set_ylim([0,1])\n",
    "ax4.text(0.03,0.9,'SB model: '+sb_model+r', $R_{\\rm scale}=$'+str(round(r_scale.value,0))+' '+str(r_scale.unit),fontsize=7)\n",
    "ax4.text(0.03,0.78,r' $1-b/a = $'+str(round(ellipticity,2,))+r', $\\theta=$'+str(round(position_angle,2))+r'$^{\\circ}$',fontsize=7)\n",
    "ax4.text(0.03,0.66,'[Fe/H]='+str(feh)+r', $\\log_{10}[\\mathrm{age/yr}]=$'+str(round(logage,2)),fontsize=7)\n",
    "ax4.text(0.03,0.54,'Distance = '+str(round(distance.value,0))+' kpc',fontsize=7)\n",
    "ax4.text(0.03,0.42,'IMF: '+imf_model+', '+r'$(m_{\\rm min},m_{\\rm max})=($'+str(round(imf_m_min,2))+','+str(round(max_mass,2))+'$)$',fontsize=7)\n",
    "ax4.text(0.03,0.30,r'$M_V=$'+str(round(M_V,2))+', '+r'$\\log_{10}[M_*/M_{\\odot}]=$'+str(round(np.log10(mass_tot),2)),fontsize=7)\n",
    "ax4.text(0.03,0.18,'Binaries: '+binary_model+', '+r'$f_{\\rm b}=$'+str(round(f_binary,2)),fontsize=7)\n",
    "ax4.text(0.03,0.06,'Resolution limit: '+str(round(resolution_limit.value,2))+' arcsec',fontsize=7)\n",
    "ax4.tick_params(left=False,top=False,bottom=False,right=False,labelleft=False,labeltop=False,labelbottom=False,labelright=False)\n",
    "plt.show()\n"
   ]
  },
  {
   "cell_type": "code",
   "execution_count": null,
   "id": "d21f187e-a001-4dc9-9d43-7c7d0d9ef599",
   "metadata": {},
   "outputs": [],
   "source": []
  }
 ],
 "metadata": {
  "kernelspec": {
   "display_name": "Python 3 (ipykernel)",
   "language": "python",
   "name": "python3"
  },
  "language_info": {
   "codemirror_mode": {
    "name": "ipython",
    "version": 3
   },
   "file_extension": ".py",
   "mimetype": "text/x-python",
   "name": "python",
   "nbconvert_exporter": "python",
   "pygments_lexer": "ipython3",
   "version": "3.12.4"
  }
 },
 "nbformat": 4,
 "nbformat_minor": 5
}
