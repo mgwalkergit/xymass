{
 "cells": [
  {
   "cell_type": "code",
   "execution_count": 1,
   "id": "83af2641",
   "metadata": {},
   "outputs": [],
   "source": [
    "import xymass\n",
    "import numpy as np\n",
    "import scipy\n",
    "import astropy.units as u\n",
    "%matplotlib inline\n",
    "import matplotlib.pyplot as plt"
   ]
  },
  {
   "cell_type": "code",
   "execution_count": 2,
   "id": "31e708c4",
   "metadata": {},
   "outputs": [],
   "source": [
    "#define sample size (number of binary systems)\n",
    "\n",
    "n_object=10000\n",
    "\n",
    "#sample mass function for primaries, need to specify units via astropy.units\n",
    "mass_primary=xymass.sample_imf(size=n_object,model='kroupa').mass*u.M_sun \n",
    "\n",
    "#sample m_secondary / m_primary from uniform distribution\n",
    "mass_ratio=np.random.uniform(size=n_object,low=0.,high=1.) \n",
    "\n",
    "#sample (truncated) log-normal period distribution, need to specify units via astropy.units\n",
    "period=10.**xymass.sample_normal_truncated(size=n_object,loc=1.,scale=1.,min_value=-np.inf,max_value=np.inf)*u.yr \n",
    "\n",
    "#sample (truncated) log-normal eccentricity distribution\n",
    "eccentricity=10.**xymass.sample_normal_truncated(size=n_object,loc=-0.3,scale=1.,min_value=-np.inf,max_value=0.) \n",
    "\n",
    "#sample time of observation, as a fraction of the orbital period (sampling uniform distribution here)\n",
    "f_period=np.random.uniform(size=n_object,low=0.,high=1.) \n",
    "\n",
    "#sample inclination angle (need to specify units via astropy.units)\n",
    "#inclination=0 for observer along +z axis, inclination=pi/2 for observer in xy plane\n",
    "#allowed from 0 to 2*pi to allow for full range of parity.\n",
    "inclination=xymass.sample_inclination(size=n_object)*u.rad \n",
    "\n",
    "#sample longitude of ascending node, need to specify units via astropy.units\n",
    "#longitude=0 if observer is along +x axis, longitude=pi/2 if observer is along +y axis\n",
    "longitude=np.random.uniform(size=n_object,low=0,high=2.*np.pi)*u.rad  "
   ]
  },
  {
   "cell_type": "code",
   "execution_count": 3,
   "id": "e6225bf5",
   "metadata": {},
   "outputs": [],
   "source": [
    "#calculate orbital elements for each system\n",
    "orbit_snapshot=xymass.sample_orbit_2body(f_period,period=period,eccentricity=eccentricity,\\\n",
    "                                         mass_primary=mass_primary,mass_ratio=mass_ratio,\\\n",
    "                                         longitude=longitude,inclination=inclination)\n"
   ]
  },
  {
   "cell_type": "code",
   "execution_count": 5,
   "id": "eeeafcbf",
   "metadata": {},
   "outputs": [
    {
     "data": {
      "image/png": "[encoded data removed]",
      "text/plain": [
       "<Figure size 576x576 with 4 Axes>"
      ]
     },
     "metadata": {
      "needs_background": "light"
     },
     "output_type": "display_data"
    }
   ],
   "source": [
    "fig=plt.figure(figsize=(8,8))\n",
    "ax1=fig.add_subplot(221)\n",
    "ax2=fig.add_subplot(222)\n",
    "ax3=fig.add_subplot(223)\n",
    "ax4=fig.add_subplot(224)\n",
    "fig.subplots_adjust(wspace=0.5,hspace=0.5)\n",
    "ax1.hist(np.log10(mass_primary.value),bins=50,density=True)\n",
    "ax2.hist(np.log10(period.value),bins=50,density=True)\n",
    "ax3.hist(eccentricity,bins=50,density=True)\n",
    "ax4.hist(orbit_snapshot.v_obs_xyz.T[2].value,bins=50,density=True,range=[-5,5])\n",
    "ax1.set_xlabel(r'$\\log_{10}[M_{\\rm primary}/M_{\\odot}]$')\n",
    "ax2.set_xlabel(r'$\\log_{10}[\\mathrm{period/yr}]$')\n",
    "ax3.set_xlabel('eccentricity')\n",
    "ax4.set_xlabel(r'$v_{\\rm LOS}$ [km/s]')\n",
    "for ax in [ax1,ax2,ax3,ax4]:\n",
    "    ax.set_ylabel('probability')\n",
    "plt.show()"
   ]
  },
  {
   "cell_type": "code",
   "execution_count": 6,
   "id": "f5dee66b",
   "metadata": {},
   "outputs": [],
   "source": [
    "plt.close()"
   ]
  },
  {
   "cell_type": "code",
   "execution_count": 7,
   "id": "73328c4d",
   "metadata": {},
   "outputs": [],
   "source": [
    "#define parameters of a single orbit\n",
    "period=1.*u.yr\n",
    "eccentricity=0.6\n",
    "mass_primary=1.*u.M_sun\n",
    "mass_ratio=0.2 #M_secondary/M_primary\n",
    "longitude=15.*np.pi/180.*u.rad #longitude of ascending node\n",
    "inclination=81.*np.pi/180.*u.rad #inclination angle\n",
    "\n",
    "#sample f_period = time / period uniformly over one full period\n",
    "f_period=np.linspace(0,1,200)"
   ]
  },
  {
   "cell_type": "code",
   "execution_count": 8,
   "id": "50a86245",
   "metadata": {},
   "outputs": [],
   "source": [
    "#calculate orbit\n",
    "sample_orbit=xymass.sample_orbit_2body(f_period,period=period,eccentricity=eccentricity,\\\n",
    "                                       mass_primary=mass_primary,mass_ratio=mass_ratio,\\\n",
    "                                       longitude=longitude,inclination=inclination)"
   ]
  },
  {
   "cell_type": "code",
   "execution_count": 9,
   "id": "8956dfcb",
   "metadata": {
    "scrolled": true
   },
   "outputs": [],
   "source": [
    "#animate positions of reduced mass, particle 1 and particle 2\n",
    "\n",
    "#first, change backend to support animation\n",
    "%matplotlib tk \n",
    "%matplotlib tk\n",
    "import matplotlib.pyplot as plt\n",
    "\n",
    "xymass.animation_2body_r(sample_orbit,animation_filename=None)"
   ]
  },
  {
   "cell_type": "code",
   "execution_count": 12,
   "id": "567f94b8",
   "metadata": {},
   "outputs": [],
   "source": [
    "plt.close()"
   ]
  },
  {
   "cell_type": "code",
   "execution_count": 13,
   "id": "afb82df8",
   "metadata": {},
   "outputs": [],
   "source": [
    "#animate velocities of reduced mass, particle 1 and particle 2\n",
    "\n",
    "xymass.animation_2body_v(sample_orbit,animation_filename=None)"
   ]
  },
  {
   "cell_type": "code",
   "execution_count": 14,
   "id": "c3391c91",
   "metadata": {},
   "outputs": [],
   "source": [
    "plt.close()"
   ]
  },
  {
   "cell_type": "code",
   "execution_count": null,
   "id": "0a4e6a26",
   "metadata": {},
   "outputs": [],
   "source": []
  }
 ],
 "metadata": {
  "kernelspec": {
   "display_name": "Python 3 (ipykernel)",
   "language": "python",
   "name": "python3"
  },
  "language_info": {
   "codemirror_mode": {
    "name": "ipython",
    "version": 3
   },
   "file_extension": ".py",
   "mimetype": "text/x-python",
   "name": "python",
   "nbconvert_exporter": "python",
   "pygments_lexer": "ipython3",
   "version": "3.9.12"
  }
 },
 "nbformat": 4,
 "nbformat_minor": 5
}
