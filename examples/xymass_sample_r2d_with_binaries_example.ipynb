{
 "cells": [
  {
   "cell_type": "code",
   "execution_count": 1,
   "id": "83af2641",
   "metadata": {},
   "outputs": [],
   "source": [
    "import xymass\n",
    "import numpy as np\n",
    "import scipy\n",
    "import astropy.units as u\n",
    "%matplotlib inline\n",
    "import matplotlib.pyplot as plt"
   ]
  },
  {
   "cell_type": "code",
   "execution_count": 2,
   "id": "31e708c4",
   "metadata": {},
   "outputs": [],
   "source": [
    "n_object=100000 #sample size\n",
    "f_binary=0.5 #binary fraction"
   ]
  },
  {
   "cell_type": "code",
   "execution_count": 3,
   "id": "6fb0b6c0",
   "metadata": {},
   "outputs": [
    {
     "name": "stderr",
     "output_type": "stream",
     "text": [
      "/Users/walker/opt/anaconda3/lib/python3.9/site-packages/xymass.py:50: UserWarning: ellipticity and position_angle not specified, assuming ellipticity=0\n",
      "  warnings.warn('ellipticity and position_angle not specified, assuming ellipticity=0')\n"
     ]
    }
   ],
   "source": [
    "#draw sample of psoitions from specified density profile.\n",
    "#Since these are positions of center of masses in binary systems, \n",
    "#r_scale must be specified with units via astropy\n",
    "\n",
    "r2d=xymass.sample_r2d(size=n_object,model='plum',r_scale=100.*u.pc) "
   ]
  },
  {
   "cell_type": "code",
   "execution_count": 4,
   "id": "f9e71681",
   "metadata": {},
   "outputs": [],
   "source": [
    "#draw sample from specified mass function.\n",
    "#Since these are masses of primaries in binary systems, must specify units via astropy\n",
    "\n",
    "m_min=0.1\n",
    "mass_primary=xymass.sample_imf(size=n_object,model='kroupa',m_min=m_min).mass*u.M_sun"
   ]
  },
  {
   "cell_type": "code",
   "execution_count": 5,
   "id": "0b615283",
   "metadata": {},
   "outputs": [],
   "source": [
    "#add binary companions according to specified binary fraction with Raghavan etal. 2010 parameters\n",
    "\n",
    "r2d_with_binaries_raghavan=xymass.add_binaries(r2d.r_xyz,mass_primary,f_binary=f_binary,\\\n",
    "                                               binary_model='Raghavan2010')"
   ]
  },
  {
   "cell_type": "code",
   "execution_count": null,
   "id": "d971fa68",
   "metadata": {},
   "outputs": [],
   "source": [
    "#add binary companions according to specified binary fraction with Duquennoy & Mayor(1991) parameters\n",
    "\n",
    "r2d_with_binaries_dm91=xymass.add_binaries(r2d.r_xyz,mass_primary,f_binary=f_binary,binary_model='DM91')"
   ]
  },
  {
   "cell_type": "code",
   "execution_count": null,
   "id": "09f34df5",
   "metadata": {},
   "outputs": [],
   "source": [
    "#add binary companions according to mass ratio, period and eccentricity distributions sampled by the user\n",
    "\n",
    "#get array of m_secondary / m_primary, sampled from uniform distribution subject to constraint M_2 > 0.1 Msun\n",
    "\n",
    "q=np.random.uniform(size=n_object,low=m_min/mass_primary.value,high=1.) \n",
    "\n",
    "#get array of orbital period (years), sampled from truncated log-normal distribution\n",
    "\n",
    "period=10.**xymass.sample_normal_truncated(size=n_object,loc=5.03,scale=2.28,\\\n",
    "                                           min_value=-np.inf,max_value=np.inf)/364.25*u.yr \n",
    "\n",
    "#get array of orbital eccentricity, sampled from truncated log-normal distribution\n",
    "\n",
    "eccentricity=xymass.sample_normal_truncated(size=n_object,loc=0.31,scale=0.17,min_value=0.,max_value=1.)\n",
    "    \n",
    "r2d_with_binaries_user=xymass.add_binaries(r2d.r_xyz,mass_primary,f_binary=f_binary,q=q,\\\n",
    "                                           period=period,eccentricity=eccentricity) "
   ]
  },
  {
   "cell_type": "code",
   "execution_count": null,
   "id": "55947557",
   "metadata": {},
   "outputs": [],
   "source": [
    "#plot nearest neighbor separation function for each case\n",
    "\n",
    "fig=plt.figure(figsize=(12,8))\n",
    "ax1=fig.add_subplot(231)\n",
    "ax2=fig.add_subplot(232)\n",
    "ax3=fig.add_subplot(233)\n",
    "#ax4=fig.add_subplot(224)\n",
    "fig.subplots_adjust(wspace=0.8,hspace=0.5)\n",
    "\n",
    "ax=[ax1,ax2,ax3]\n",
    "title=['Raghavan+2010','D+M 1991','user defined']\n",
    "\n",
    "i=0\n",
    "for sample in [r2d_with_binaries_raghavan,r2d_with_binaries_dm91,r2d_with_binaries_user]:\n",
    "    tree=scipy.spatial.KDTree(sample.r_xyz.value)\n",
    "    tree_singles=scipy.spatial.KDTree(sample.r_xyz[sample.item==0].value)\n",
    "    tree_binaries=scipy.spatial.KDTree(sample.r_xyz[sample.item>0].value)\n",
    "    nn=tree.query(sample.r_xyz.value,k=2)[0].T[1]#gives array of NN distance for each item in sample\n",
    "    nn_singles=tree_singles.query(sample.r_xyz[sample.item==0].value,k=2)[0].T[1]\n",
    "    nn_binaries=tree_binaries.query(sample.r_xyz[sample.item>0].value,k=2)[0].T[1]\n",
    "            \n",
    "    ax[i].hist(np.log10(nn/r2d.rhalf_2d.value),bins=50,histtype='step',density=False,color='k',label='all')\n",
    "    ax[i].hist(np.log10(nn_singles/r2d.rhalf_2d.value),bins=50,histtype='step',density=False,color='b',label='singles')\n",
    "    ax[i].hist(np.log10(nn_binaries/r2d.rhalf_2d.value),bins=50,histtype='step',density=False,color='r',label='binaries')\n",
    "    ax[i].set_xlabel(r'$\\log_{10}[\\mathrm{NN sep}\\,/\\,R_{\\rm half}]$',fontsize=10)\n",
    "    ax[i].set_title(title[i],fontsize=10)\n",
    "    ax[i].set_ylabel('N')\n",
    "    ax[i].legend(loc=2,fontsize=8)\n",
    "\n",
    "    i+=1\n",
    "    \n",
    "plt.show()\n"
   ]
  },
  {
   "cell_type": "code",
   "execution_count": null,
   "id": "1d9ade67",
   "metadata": {},
   "outputs": [],
   "source": []
  }
 ],
 "metadata": {
  "kernelspec": {
   "display_name": "Python 3 (ipykernel)",
   "language": "python",
   "name": "python3"
  },
  "language_info": {
   "codemirror_mode": {
    "name": "ipython",
    "version": 3
   },
   "file_extension": ".py",
   "mimetype": "text/x-python",
   "name": "python",
   "nbconvert_exporter": "python",
   "pygments_lexer": "ipython3",
   "version": "3.9.13"
  }
 },
 "nbformat": 4,
 "nbformat_minor": 5
}
